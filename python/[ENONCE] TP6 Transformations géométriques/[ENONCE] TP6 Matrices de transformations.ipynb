{
 "cells": [
  {
   "cell_type": "markdown",
   "metadata": {},
   "source": [
    "<p style=\"text-align:center; font-size:300%; line-height:300%; font-weight:bold; background-color:#2F52A3; color:white\">Transformations géométriques</p>"
   ]
  },
  {
   "cell_type": "markdown",
   "metadata": {},
   "source": [
    "<div style=\"font-weight:bold; background-color:#61C3CE\">\n",
    "    Evaluation :\n",
    "    <ul>\n",
    "        <li>Déterminer des matrices de transformation</li>\n",
    "    </ul>\n",
    "</div>"
   ]
  },
  {
   "cell_type": "markdown",
   "metadata": {},
   "source": [
    "**Recommandations :**\n",
    "\n",
    "+ Respectez rigoureusement la signature des fonctions (casse incluse), et les consignes.\n",
    "+ Copiez-collez le code de votre fonction (ne contenant aucun print ou autre effet de bord) sur Moodle (CodeRunner)\n",
    "+ Utilisez les alias définis ci-dessous. Ne faites pas d'import sur Moodle, c'est déjà fait.\n",
    "+ Même si vous travaillez à plusieurs, faites un dépôt par personne.\n",
    "+ Il n'y aura aucune \"démo\" dans les cinq dernières minutes. Ce travail et les tests Moodle seront pris en compte dans la note finale.\n",
    "+ Vous allez coder **des fonctions**; cela signifie que vous **retournez** le résultat et que vous ne modifiez pas les paramètres (**pas d'effet de bord**)."
   ]
  },
  {
   "cell_type": "markdown",
   "metadata": {},
   "source": [
    "**Objectifs :**\n",
    "+ Représenter des figures planes.\n",
    "+ Déterminer des matrices de transformations géométriques.\n",
    "+ Utiliser le calcul matriciel pour effectuer des transformations géométriques."
   ]
  },
  {
   "cell_type": "code",
   "execution_count": 1,
   "metadata": {},
   "outputs": [],
   "source": [
    "import numpy as np\n",
    "# La ligne suivante permet que les graphiques soient incorporés dans le notebook.\n",
    "%matplotlib inline \n",
    "import matplotlib.pyplot as plt # Module \"matplotlib\" pour les graphiques.\n",
    "import math # Pour utiliser la constante pi"
   ]
  },
  {
   "cell_type": "markdown",
   "metadata": {},
   "source": [
    "<p style=\"font-size:200%; line-height:200%; font-weight:bold; background-color:#2F52A3; color:white\">Les figures</p>"
   ]
  },
  {
   "cell_type": "markdown",
   "metadata": {},
   "source": [
    "<p style=\"font-size:150%; line-height:150%; font-weight:bold; background-color:#FFDD00\">Exercice : Premières représentations</p>\n",
    "\n",
    "Exécutez et analysez le code de la cellule ci-dessous :\n",
    "+ Enlevez le dernier sommet du carré et observez le résultat.\n",
    "+ Décommentez l'instruction `plt.axis('scaled')` et observez le résultat."
   ]
  },
  {
   "cell_type": "code",
   "execution_count": 6,
   "metadata": {},
   "outputs": [
    {
     "data": {
      "image/png": "[encoded data removed]",
      "text/plain": [
       "<Figure size 432x288 with 1 Axes>"
      ]
     },
     "metadata": {
      "needs_background": "light"
     },
     "output_type": "display_data"
    }
   ],
   "source": [
    "\"\"\"\n",
    "Notez que le carré ci-dessus contient 5 sommets ... \n",
    "Le premier est répété afin de \"fermer\" la figure \n",
    "Essayez de supprimer ce dernier point pour observer la différence\n",
    "\"\"\"\n",
    "\n",
    "K = np.array([[1,1,-1,-1],[-1,1,1,-1]]) # Le carré à representer\n",
    "\n",
    "plt.plot(K[0,:],K[1,:]) # Premier argument : les abscisses, Second argument : les ordonnées\n",
    "plt.axis('scaled')\n",
    "plt.axis([-2,2,-2,2]) # Limites de la figures xmin,xmax,ymin,ymax\n",
    "\n",
    "plt.show() # C'est un carré qui n'a pas l'air de l'être ..."
   ]
  },
  {
   "cell_type": "markdown",
   "metadata": {},
   "source": [
    "<p style=\"font-size:150%; line-height:150%; font-weight:bold; color:#2F52A3\">Différentes formes et différentes représentations</p>"
   ]
  },
  {
   "cell_type": "markdown",
   "metadata": {},
   "source": [
    "Dans la suite des manipulations à faire, vous aurez besoin des figures suivantes :\n",
    "+ Un triangle isocèle rectangle `IR`\n",
    "+ Un triangle équilatéral `Tri`\n",
    "+ Un cercle `C`\n",
    "+ Un parallèlogramme `Para`\n",
    "\n",
    "Ces variables/figures sont définies dans la cellule ci-dessous."
   ]
  },
  {
   "cell_type": "code",
   "execution_count": 22,
   "metadata": {},
   "outputs": [
    {
     "name": "stdout",
     "output_type": "stream",
     "text": [
      "[0.         0.06346652 0.12693304 0.19039955 0.25386607 0.31733259\n",
      " 0.38079911 0.44426563 0.50773215 0.57119866 0.63466518 0.6981317\n",
      " 0.76159822 0.82506474 0.88853126 0.95199777 1.01546429 1.07893081\n",
      " 1.14239733 1.20586385 1.26933037 1.33279688 1.3962634  1.45972992\n",
      " 1.52319644 1.58666296 1.65012947 1.71359599 1.77706251 1.84052903\n",
      " 1.90399555 1.96746207 2.03092858 2.0943951  2.15786162 2.22132814\n",
      " 2.28479466 2.34826118 2.41172769 2.47519421 2.53866073 2.60212725\n",
      " 2.66559377 2.72906028 2.7925268  2.85599332 2.91945984 2.98292636\n",
      " 3.04639288 3.10985939 3.17332591 3.23679243 3.30025895 3.36372547\n",
      " 3.42719199 3.4906585  3.55412502 3.61759154 3.68105806 3.74452458\n",
      " 3.8079911  3.87145761 3.93492413 3.99839065 4.06185717 4.12532369\n",
      " 4.1887902  4.25225672 4.31572324 4.37918976 4.44265628 4.5061228\n",
      " 4.56958931 4.63305583 4.69652235 4.75998887 4.82345539 4.88692191\n",
      " 4.95038842 5.01385494 5.07732146 5.14078798 5.2042545  5.26772102\n",
      " 5.33118753 5.39465405 5.45812057 5.52158709 5.58505361 5.64852012\n",
      " 5.71198664 5.77545316 5.83891968 5.9023862  5.96585272 6.02931923\n",
      " 6.09278575 6.15625227 6.21971879 6.28318531]\n"
     ]
    },
    {
     "data": {
      "image/png": "[encoded data removed]",
      "text/plain": [
       "<Figure size 432x288 with 1 Axes>"
      ]
     },
     "metadata": {
      "needs_background": "light"
     },
     "output_type": "display_data"
    }
   ],
   "source": [
    "IR = np.array([[1,0,0,1],[0,1,0,0]])\n",
    "Tri = np.array([ [1,-1/2,-1/2,1],[0,np.sqrt(3)/2,-np.sqrt(3)/2,0] ])\n",
    "\n",
    "#Construction du cercle\n",
    "n = 100\n",
    "t = np.linspace(0,2*math.pi,n)\n",
    "print(t)\n",
    "C = np.array([np.cos(t),np.sin(t)])\n",
    "\n",
    "Para = np.array([[0,2,3,1,0],[0,0,1,1,0]])\n",
    "\n",
    "plt.fill(IR[0,:], IR[1,:], Tri[0,:], Tri[1,:], Para[0,:], Para[1,:], C[0,:], C[1,:])\n",
    "\n",
    "plt.axis('scaled')\n",
    "plt.show()"
   ]
  },
  {
   "cell_type": "markdown",
   "metadata": {},
   "source": [
    "<p style=\"font-size:150%; line-height:150%; font-weight:bold; background-color:#FFDD00\">Exercice : Manipulations des figures</p>\n",
    "\n",
    "A partir du code de la cellule précédente :\n",
    "+ Affichez successivement ces $4$ figures.\n",
    "+ Pour le cercle, changez la valeur de $n$ en utilisant : $50, 20, 10, 8, 5$.\n",
    "+ Décommentez la ligne `print(t)` et observez le contenu de `t` pour chacune des valeurs de $n$ ci-dessus.\n",
    "+ Remplacez la commande `plot` par la commande `fill` et observez\n",
    "+ Représentez toutes les figures données sur un même graphique\n",
    "\n",
    "**Remarques :**\n",
    "+ L'instruction `np.linspace(a,b,n)` retourne un tableau de $n$ valeurs équitablement réparties dans l'intervalle $\\lbrack a,b\\rbrack$. La première valeur est toujours $a$, la dernière est toujours $b$.\n",
    "+ Pour representer plusieurs figures sur un même graphique, il suffit de faire plusieurs `plot` avant le `show`"
   ]
  },
  {
   "cell_type": "code",
   "execution_count": null,
   "metadata": {
    "scrolled": true
   },
   "outputs": [],
   "source": []
  },
  {
   "cell_type": "markdown",
   "metadata": {},
   "source": [
    "<p style=\"font-size:200%; line-height:200%; font-weight:bold; background-color:#2F52A3; color:white\">Les transformations</p>"
   ]
  },
  {
   "cell_type": "markdown",
   "metadata": {},
   "source": [
    "<p style=\"font-size:150%; line-height:150%; font-weight:bold; background-color:#FFDD00\">Exercice : Rotations et Hométhéties</p>\n",
    "\n",
    "Codez les fonctions ci-dessous :\n",
    "+ Ecrivez une fonction `R(theta)` qui retourne la **matrice** de rotation du plan d'angle `theta` de centre $(0,0)$.\n",
    "+ Ecrivez une fonction `H(k)` qui retourne la **matrice** d'homothétie du plan de rapport `k` de centre $(0,0)$.\n",
    "\n",
    "**Indications :**\n",
    "+ L'usage de vos fonctions doit être le suivant : `newK = H(2) @ K`.\n",
    "+ Alors la variable `newK` contient l'image du carré `K` par l'homothétie de centre $(0,0)$ et de rapport $2$.**\n",
    "\n",
    "Réalisez la figure ci-dessous pour tester vos fonctions :\n",
    "\n",
    "<img src=\"carres.png\" />"
   ]
  },
  {
   "cell_type": "code",
   "execution_count": 30,
   "metadata": {},
   "outputs": [],
   "source": [
    "def R(theta):return np.array([[np.cos(theta), -np.sin(theta)], [np.sin(theta), np.cos(theta)]])\n",
    "#print(R(5))\n",
    "\n",
    "def H(K):return np.array([[k, 0], [0, k]])\n",
    "    "
   ]
  },
  {
   "cell_type": "markdown",
   "metadata": {},
   "source": [
    "<p style=\"font-size:150%; line-height:150%; font-weight:bold; background-color:#FFDD00\">Exercice : Translations</p>\n",
    "\n",
    "Codez la fonction ci-dessous :\n",
    "+ Ecrivez une fonction `T(u, F)` qui retourne le translaté de la figure `F` par la translation de vecteur `u`. \n",
    "Le vecteur `u` doit être un `np.array` de deux lignes et une colonne. \n",
    "\n",
    "**Indications :**\n",
    "+ Notez que le fonctionnement est différent des fonctions précédentes. \n",
    "+ L'usage sera `newC = T(U, C)` \n",
    "+ Après cette instruction la variable `newC` contient l'image de `C` par la translation de vecteur `U`.\n",
    "\n",
    "Réalisez la figure ci-dessous pour tester votre fonction :\n",
    "\n",
    "<img src=\"cercles.png\" />\n",
    "\n",
    "**Indication :** \n",
    "+ La fonction `np.ones` peut vous simplifier la tâche."
   ]
  },
  {
   "cell_type": "code",
   "execution_count": null,
   "metadata": {},
   "outputs": [],
   "source": [
    "def T(u, F):return F + u @ np.ones([1, F.shape[1]])\n",
    "        "
   ]
  },
  {
   "cell_type": "markdown",
   "metadata": {},
   "source": [
    "<p style=\"font-size:150%; line-height:150%; font-weight:bold; background-color:#FFDD00\">Exercice : Projections et Symétries</p>\n",
    "\n",
    "**Attention :**\n",
    "+ Cette partie est plus difficile. \n",
    "+ Pour réussir, il me parrait indispensable de réaliser des calculs \"papier-crayon\" avant de chercher à coder.\n",
    "+ Utilisez les exemples de cours et TD pour vous aider.\n",
    "\n",
    "Questions :\n",
    "+ Ecrivez une fonction `Pr(a)` qui retour la **matrice** de la projection orthogonale sur la droite d'équation $y = ax$.\n",
    "+ Ecrivez une fonction `S(a)` qui retour la **matrice** de la symétrie orthogonale par rapport à droite d'équation $y = ax$.\n",
    "\n",
    "**Indications :**\n",
    "+ L'usage de vos fonctions doit être le suivant : `newK = S(2) @ K`.\n",
    "+ Alors la variable `newK` contient l'image du carré `K` par la symétrie d'axe d'équation $y = 2x$.\n",
    "+ Le fonctionnement est le même que pour les rotations et homothéties.\n",
    "+ Pour la symétrie, utilisez la projection.\n",
    "+ Testez vos fonctions avec les exemples du cours et du TD\n",
    "+ Vérifiez que les projections satisfont $P^2 = P$ et les symétries $S^2 = I$."
   ]
  },
  {
   "cell_type": "code",
   "execution_count": null,
   "metadata": {
    "scrolled": true
   },
   "outputs": [],
   "source": [
    "def Pr(a): return np.array([[(1/a**2 +1), a/(a**2 +1)], [a/(a**2 +1), (a**2)/(a**2 +1)]])\n",
    "\n",
    "def S(a): return 2 * Pr(a) - np.eye(Pr(a).shape[0])"
   ]
  },
  {
   "cell_type": "markdown",
   "metadata": {},
   "source": [
    "<p style=\"font-size:150%; line-height:150%; font-weight:bold; color:#D67D3A\">Attention : </p>\n",
    "\n",
    "Le travail à rendre pour ce TP est :\n",
    "+ les fonctions `R(theta)` et `H(k)`\n",
    "+ la fonction `T(u, F)`\n",
    "+ les fonctions `Pr(a)` et `S(a)`"
   ]
  },
  {
   "cell_type": "code",
   "execution_count": null,
   "metadata": {},
   "outputs": [],
   "source": []
  }
 ],
 "metadata": {
  "kernelspec": {
   "display_name": "Python 3 (ipykernel)",
   "language": "python",
   "name": "python3"
  },
  "language_info": {
   "codemirror_mode": {
    "name": "ipython",
    "version": 3
   },
   "file_extension": ".py",
   "mimetype": "text/x-python",
   "name": "python",
   "nbconvert_exporter": "python",
   "pygments_lexer": "ipython3",
   "version": "3.10.2"
  }
 },
 "nbformat": 4,
 "nbformat_minor": 2
}
