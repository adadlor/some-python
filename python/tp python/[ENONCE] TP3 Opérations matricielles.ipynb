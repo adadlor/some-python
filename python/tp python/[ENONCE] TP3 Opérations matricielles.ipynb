{
 "cells": [
  {
   "cell_type": "markdown",
   "metadata": {},
   "source": [
    "<p style=\"text-align:center; font-size:300%; line-height:300%; font-weight:bold; background-color:#2F52A3; color:white\">Matrices</p>"
   ]
  },
  {
   "cell_type": "markdown",
   "metadata": {},
   "source": [
    "<div style=\"font-weight:bold; background-color:#61C3CE\">\n",
    "    Evaluation :\n",
    "    <ul>\n",
    "        <li>Faire de calculs avec les matrices</li>\n",
    "    </ul>\n",
    "</div>"
   ]
  },
  {
   "cell_type": "markdown",
   "metadata": {},
   "source": [
    "**Recommandations :**\n",
    "\n",
    "+ Respectez rigoureusement la signature des fonctions (casse incluse), et les consignes.\n",
    "+ Copiez-collez le code de votre fonction (ne contenant aucun print ou autre effet de bord) sur Moodle (CodeRunner)\n",
    "+ Utilisez les alias définis ci-dessous. Ne faites pas d'import sur Moodle, c'est déjà fait.\n",
    "+ Même si vous travaillez à plusieurs, faites un dépôt par personne.\n",
    "+ Il n'y aura aucune \"démo\" dans les cinq dernières minutes. Ce travail et les tests Moodle seront pris en compte dans la note finale.\n",
    "+ Vous allez coder **des fonctions**; cela signifie que vous **retournez** le résultat et que vous ne modifiez pas les paramètres (**pas d'effet de bord**)."
   ]
  },
  {
   "cell_type": "markdown",
   "metadata": {},
   "source": [
    "**Objectif :**\n",
    "\n",
    "+ Assimilier le vocabulaire sur les matrices, en mettant en place quelques fonctions.\n",
    "+ Pratiquer les opérations de bases sur les matrices, en mettant en place quelques fonctions."
   ]
  },
  {
   "cell_type": "code",
   "execution_count": 1,
   "metadata": {},
   "outputs": [],
   "source": [
    "import numpy as np"
   ]
  },
  {
   "cell_type": "markdown",
   "metadata": {},
   "source": [
    "<p style=\"font-size:150%; line-height:150%; font-weight:bold; background-color:#FFDD00\">Exercice : Vocabulaire sur les matrices</p>"
   ]
  },
  {
   "cell_type": "markdown",
   "metadata": {},
   "source": [
    "Codez les fonctions de test suivantes :\n",
    "+ `estCarree(A)` qui retourne `True` si et seulement si la matrice (`np.array`) $A$ est carrée.\n",
    "+ `estTriangulaireSuperieure(A)` qui retourne `True` si et seulement si la matrice $A$ est triangulaire supérieure.\n",
    "+ `estSymetrique(A)` qui retourne `True` si et seulement si la matrice $A$ est symétrique.\n",
    "\n",
    "**Indications :**\n",
    "+ Si $A$ est une matrice, alors `np.shape(A)` ou `A.shape` retourne les dimensions de cette matrice.\n",
    "+ Réfléchissez avant de coder : `while` ou `for` ?\n",
    "+ Une matrice ne peut être triangulaire ou symétrique que si elle est déjà carrée."
   ]
  },
  {
   "cell_type": "code",
   "execution_count": 16,
   "metadata": {},
   "outputs": [
    {
     "name": "stdout",
     "output_type": "stream",
     "text": [
      "True\n",
      "False\n",
      "True\n",
      "True\n",
      "False\n"
     ]
    }
   ],
   "source": [
    "def estCarree(A):return A.shape[0] == A.shape[1]\n",
    "\n",
    "def estTriangulaireSuperieur(A):\n",
    "    for i in range(A.shape[0]):\n",
    "        for j in range(A.shape[1]):\n",
    "            if A[i, j] != 0 and i > j:return False\n",
    "    return True\n",
    "\n",
    "def estSymetrique(A):\n",
    "    if estCarree(A) == False:\n",
    "        return False\n",
    "    else:\n",
    "        for i in range(A.shape[0]):\n",
    "            for j in range(A.shape[1]):\n",
    "                if A[i, j] != A[j, i]:return False\n",
    "        return True\n",
    "                   \n"
   ]
  },
  {
   "cell_type": "markdown",
   "metadata": {},
   "source": [
    "<p style=\"font-size:150%; line-height:150%; font-weight:bold; background-color:#FFDD00\">Exercice : Egalité matricielle</p>"
   ]
  },
  {
   "cell_type": "markdown",
   "metadata": {},
   "source": [
    "**Instructions :**\n",
    "+ L'objectif est de vous faire coder des fonctions dont le code parcours les coefficients des matrices. \n",
    "+ Vous **ne devez pas** utiliser les fonctions de haut niveau fournies par numpy, sauf lorsque cela sera explicitement demandé.\n",
    "+ Ecrivez une fonction `egales(A,B)` qui teste l'égalité des deux matrices.\n",
    "+ Codez une nouvelle fonction `estSymetriqueV2(A)` qui utilise la commande `np.transpose` ainsi que votre fonction d'égalité."
   ]
  },
  {
   "cell_type": "code",
   "execution_count": 20,
   "metadata": {},
   "outputs": [
    {
     "name": "stdout",
     "output_type": "stream",
     "text": [
      "True\n",
      "False\n",
      "True\n",
      "True\n",
      "False\n",
      "False\n",
      "False\n",
      "True\n",
      "True\n",
      "False\n"
     ]
    }
   ],
   "source": [
    "def egales(A, B):\n",
    "    if A.shape == B.shape :\n",
    "        for i in range(A.shape[0]):\n",
    "            for j in range(A.shape[1]):\n",
    "                if A[i, j] != B[i, j]:return False\n",
    "        return True\n",
    "    else:return False\n",
    "            \n",
    "def estSymetriqueV2(A):return egales(A, np.transpose(A))\n",
    "\n"
   ]
  },
  {
   "cell_type": "markdown",
   "metadata": {},
   "source": [
    "<p style=\"font-size:150%; line-height:150%; font-weight:bold; background-color:#FFDD00\">Exercice : Addition matricielle</p>"
   ]
  },
  {
   "cell_type": "markdown",
   "metadata": {},
   "source": [
    "**Instructions :**\n",
    "+ L'objectif est de vous faire coder des fonctions dont le code parcours les coefficients des matrices. \n",
    "+ Vous **ne devez pas** utiliser les fonctions de haut niveau fournies par numpy, sauf lorsque cela sera explicitement demandé.\n",
    "+ Codez une fonction `addition(A,B)` qui retourne la somme des deux matrices lorsque cela est possible, `None` sinon.\n",
    "\n",
    "**Indications :**\n",
    "+ Réflichissez avant de coder : quand peut-on ajouter deux matrices ?\n",
    "+ Réflichissez avant de coder (bis) : `while` ou `for` ?"
   ]
  },
  {
   "cell_type": "code",
   "execution_count": 21,
   "metadata": {},
   "outputs": [
    {
     "name": "stdout",
     "output_type": "stream",
     "text": [
      "None\n",
      "[[ 2  4  6]\n",
      " [ 2  2  8]\n",
      " [ 3  4 10]]\n"
     ]
    }
   ],
   "source": [
    "def addition(A, B):\n",
    "    if A.shape == B.shape:\n",
    "        copy = np.copy(A)\n",
    "        for i in range(A.shape[0]):\n",
    "            for j in range(A.shape[1]):\n",
    "                copy[i, j] = A[i, j] + B[i, j]\n",
    "        return copy\n",
    "    else: return None\n"
   ]
  },
  {
   "cell_type": "markdown",
   "metadata": {},
   "source": [
    "<p style=\"font-size:150%; line-height:150%; font-weight:bold; color:#D67D3A\">Attention : </p>\n",
    "\n",
    "Les fonctions à rendre pour ce TP sont :\n",
    "+ `estCarree(A)`\n",
    "+ `estTriangulaireSuperieure(A)`\n",
    "+ `estSymetrique(A)`\n",
    "+ `egales(A,B)`\n",
    "+ `addition(A,B)`"
   ]
  },
  {
   "cell_type": "code",
   "execution_count": null,
   "metadata": {},
   "outputs": [],
   "source": []
  }
 ],
 "metadata": {
  "kernelspec": {
   "display_name": "Python 3 (ipykernel)",
   "language": "python",
   "name": "python3"
  },
  "language_info": {
   "codemirror_mode": {
    "name": "ipython",
    "version": 3
   },
   "file_extension": ".py",
   "mimetype": "text/x-python",
   "name": "python",
   "nbconvert_exporter": "python",
   "pygments_lexer": "ipython3",
   "version": "3.10.2"
  }
 },
 "nbformat": 4,
 "nbformat_minor": 2
}
