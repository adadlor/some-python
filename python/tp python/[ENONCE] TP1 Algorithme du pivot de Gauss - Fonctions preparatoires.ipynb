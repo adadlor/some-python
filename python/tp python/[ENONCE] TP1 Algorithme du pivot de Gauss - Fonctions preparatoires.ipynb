{
 "cells": [
  {
   "cell_type": "markdown",
   "metadata": {},
   "source": [
    "<p style=\"text-align:center; font-size:300%; line-height:300%; font-weight:bold; background-color:#2F52A3; color:white\">Algorithme du pivot de Gauss</p>"
   ]
  },
  {
   "cell_type": "markdown",
   "metadata": {},
   "source": [
    "<div style=\"font-weight:bold; background-color:#61C3CE\">\n",
    "    Evaluation :\n",
    "    <ul>\n",
    "        <li>Résoudre des systèmes linéaires</li>\n",
    "    </ul>\n",
    "</div>"
   ]
  },
  {
   "cell_type": "markdown",
   "metadata": {},
   "source": [
    "**Recommandations :**\n",
    "\n",
    "+ Respectez rigoureusement la signature des fonctions (casse incluse), et les consignes.\n",
    "+ Copiez-collez le code de votre fonction (ne contenant aucun print ou autre effet de bord) sur Moodle (CodeRunner)\n",
    "+ Utilisez les alias définis ci-dessous.\n",
    "+ Même si vous travaillez à plusieurs, faites un dépôt par personne.\n",
    "+ Il n'y aura aucune \"démo\" dans les cinq dernières minutes. Ce travail et les tests Moodle seront pris en compte dans la note finale.\n",
    "+ Vous allez coder **des fonctions**; cela signifie que vous **retournez** le résultat et que vous ne modifiez pas les paramètres (**pas d'effet de bord**)."
   ]
  },
  {
   "cell_type": "markdown",
   "metadata": {},
   "source": [
    "**Objectif :**\n",
    "\n",
    "+ Mettre en place l'algorithme de Gauss permettant de résoudre des systèmes linéaires.\n"
   ]
  },
  {
   "cell_type": "code",
   "execution_count": 1,
   "metadata": {},
   "outputs": [],
   "source": [
    "\"\"\"\n",
    "Exécutez cette cellule. \n",
    "Les instructions seront validées pour tout le notebook.\n",
    "\"\"\"\n",
    "\n",
    "import numpy as np # Importation de numpy\n",
    "np.set_printoptions(precision=3, suppress=True) # Affichage des réels"
   ]
  },
  {
   "cell_type": "markdown",
   "metadata": {},
   "source": [
    "<p style=\"font-size:150%; line-height:150%; font-weight:bold; background-color:#FFDD00\">Exercice : Fonction d'échange de lignes</p>"
   ]
  },
  {
   "cell_type": "markdown",
   "metadata": {},
   "source": [
    "Ecrivez une fonction `Echange(i,j,M)` qui retourne une matrice dans laquelle les lignes $i$ et $j$ ont été échangées.\n",
    "\n",
    "Par exemple :\n",
    "\n",
    "+ Avec $A = \\left(\\begin{matrix} \n",
    "1 & -3 & 2 \\\\\n",
    "2 & 4 & -1 \\\\\n",
    "5 & 11 & 3\n",
    "\\end{matrix}\\right)$, l'appel de `Echange(1,2,A)` doit retourner :\n",
    "$\\left(\\begin{matrix} \n",
    "1 & -3 & 2 \\\\\n",
    "5 & 11 & 3 \\\\\n",
    "2 & 4 & -1 \\\\\n",
    "\\end{matrix}\\right)$\n",
    "\n",
    "+ Avec $B = \\left(\\begin{matrix} \n",
    "0 & 7 & -1 & 6 & 7 \\\\\n",
    "4 & 8 & 5 & -1 & 0 \\\\\n",
    "1 & 5 & -9 & 3 & -5 \\\\\n",
    "2 & 8 & 6 & -4 & 2 \\\\\n",
    "\\end{matrix}\\right)$, l'appel de `Echange(0,3,B)` doit retourner :\n",
    "$\\left(\\begin{matrix} \n",
    "2 & 8 & 6 & -4 & 2 \\\\\n",
    "4 & 8 & 5 & -1 & 0 \\\\\n",
    "1 & 5 & -9 & 3 & -5 \\\\\n",
    "0 & 7 & -1 & 6 & 7 \\\\\n",
    "\\end{matrix}\\right)$\n",
    "\n",
    "**En Python, la matrice `M` doit être un `numpy.array`; `i` et `j` sont des entiers**"
   ]
  },
  {
   "cell_type": "code",
   "execution_count": 5,
   "metadata": {},
   "outputs": [
    {
     "name": "stdout",
     "output_type": "stream",
     "text": [
      "[[ 1 -3  2]\n",
      " [ 5 11  3]\n",
      " [ 2  4 -1]]\n"
     ]
    }
   ],
   "source": [
    "# Insérez et testez le code de votre fonction ici\n",
    "def Echange(i, j, m):\n",
    "    resultat = np.copy(m)\n",
    "    resultat[i, :] = m[j, :]\n",
    "    resultat[j, :] = m[i, :]\n",
    "    return resultat\n",
    "\n",
    "A = np.array([[1, -3, 2], [2, 4, -1], [5, 11, 3]])\n",
    "print(Echange(1, 2, A))"
   ]
  },
  {
   "cell_type": "markdown",
   "metadata": {},
   "source": [
    "<p style=\"font-size:150%; line-height:150%; font-weight:bold; background-color:#FFDD00\">Exercice : Fonction de combinaison linéaire</p>"
   ]
  },
  {
   "cell_type": "markdown",
   "metadata": {},
   "source": [
    "Ecrivez une fonction `CombinaisonLineaire(i,coeff,j,M)` qui retourne une matrice dans laquelle à la ligne $i$ a été ajoutée `coeff` fois la ligne $j$.\n",
    "\n",
    "Par exemple :\n",
    "\n",
    "+ Avec $A = \\left(\\begin{matrix} \n",
    "1 & -3 & 2 \\\\\n",
    "2 & 4 & -1 \\\\\n",
    "5 & 11 & 3\n",
    "\\end{matrix}\\right)$, l'appel de `CombinaisonLineaire(0,-5,1,A)` doit retourner :\n",
    "$\\left(\\begin{matrix} \n",
    "-9 & -23 & 7 \\\\\n",
    "2 & 4 & -1 \\\\\n",
    "5 & 11 & 3\n",
    "\\end{matrix}\\right)$\n",
    "\n",
    "+ Avec $B = \\left(\\begin{matrix} \n",
    "0 & 7 & -1 & 6 & 7 \\\\\n",
    "4 & 8 & 5 & -1 & 0 \\\\\n",
    "1 & 5 & -9 & 3 & -5 \\\\\n",
    "2 & 8 & 6 & -4 & 2 \\\\\n",
    "\\end{matrix}\\right)$, l'appel de `CombinaisonLineaire(3,-2,2,B)` doit retourner :\n",
    "$\\left(\\begin{matrix} \n",
    "0 & 7 & -1 & 6 & 7 \\\\\n",
    "4 & 8 & 5 & -1 & 0 \\\\\n",
    "1 & 5 & -9 & 3 & -5 \\\\\n",
    "0 & -2 & 24 & -10 & 12 \\\\\n",
    "\\end{matrix}\\right)$\n",
    "\n",
    "**En Python, le coefficient `coeff` est un nombre réel**"
   ]
  },
  {
   "cell_type": "markdown",
   "metadata": {},
   "source": [
    "# Insérez et testez le code de votre fonction ici\n"
   ]
  },
  {
   "cell_type": "code",
   "execution_count": 8,
   "metadata": {},
   "outputs": [
    {
     "name": "stdout",
     "output_type": "stream",
     "text": [
      "[[ -9 -23   7]\n",
      " [  2   4  -1]\n",
      " [  5  11   3]]\n"
     ]
    }
   ],
   "source": [
    "def CombinaisonLineaire(i, coeff, j, M):\n",
    "    res = np.copy(M)\n",
    "    res[i, :] = M[i, :] + M[j, :] * coeff\n",
    "    return res\n",
    "\n",
    "print(CombinaisonLineaire(0, -5, 1, A))"
   ]
  },
  {
   "cell_type": "markdown",
   "metadata": {},
   "source": [
    "<p style=\"font-size:150%; line-height:150%; font-weight:bold; background-color:#FFDD00\">Exercice : Fonction de choix du pivot</p>"
   ]
  },
  {
   "cell_type": "markdown",
   "metadata": {},
   "source": [
    "**Attention :** Cette fonction est un peu plus difficile. Lisez attentivement l'énoncé. Demandez à votre enseignant !\n",
    "\n",
    "La fonction `ChoixPivot(j,M)` doit retourner, en cherchant dans la colonne $j$, le premier **indice** de ligne $i$ sous la diagonale (diagonale incluse) tel que $M_{i,j} \\not= 0$. Si un tel coefficient n'existe pas, la fonction retourne `None`.\n",
    "\n",
    "Par exemple avec la matrice :\n",
    "$$A = \\left(\\begin{matrix}\n",
    "0 & 1 & 2 & 3 \\\\\n",
    "0 & 2 & 1 & 5 \\\\\n",
    "1 & 0 & 0 & 4 \\\\\n",
    "2 & 7 & 0 & 8 \\\\\n",
    "\\end{matrix}\\right)$$\n",
    "\n",
    "+ `ChoixPivot(0,A)` retourne $2$\n",
    "+ `ChoixPivot(1,A)` retourne $1$ : Le coefficient sur la diagonale est non-nul\n",
    "+ `ChoixPivot(2,A)` retourne None : Il n'y a pas de coefficient non-nul sous la diagonale dans cette colonne\n",
    "+ `ChoixPivot(3,A)` retourne $3$\n",
    "\n",
    "**Indication :** Vous pouvez récupérer les dimensions d'une matrice $M$ à l'aide de `np.shape(M)` ou bien `M.shape`."
   ]
  },
  {
   "cell_type": "code",
   "execution_count": 19,
   "metadata": {},
   "outputs": [
    {
     "name": "stdout",
     "output_type": "stream",
     "text": [
      "2\n",
      "1\n",
      "None\n",
      "3\n"
     ]
    }
   ],
   "source": [
    "# Insérez et testez le code de votre fonction ici\n",
    "def ChoixPivot(j, M):\n",
    "    for i in range(M.shape[0]):\n",
    "        if M[i, j] != 0 and i >= j:\n",
    "            return i\n",
    "    return None\n",
    "\n",
    "A = np.array([[0, 1, 2, 3], [0, 2, 1, 5], [1, 0, 0, 4], [2, 7, 0, 8]])\n",
    "print(ChoixPivot(0, A))\n",
    "print(ChoixPivot(1, A))\n",
    "print(ChoixPivot(2, A))\n",
    "print(ChoixPivot(3, A))"
   ]
  },
  {
   "cell_type": "markdown",
   "metadata": {},
   "source": [
    "<p style=\"font-size:150%; line-height:150%; font-weight:bold; color:#D67D3A\">Attention : </p>\n",
    "\n",
    "Les fonctions à rendre pour ce TP sont :\n",
    "+ `Echange(i, j, M)`\n",
    "+ `CombinaisonLineaire(i, coeff, j , M)`\n",
    "+ `ChoixPivot(j, M)`"
   ]
  },
  {
   "cell_type": "code",
   "execution_count": null,
   "metadata": {},
   "outputs": [],
   "source": []
  }
 ],
 "metadata": {
  "kernelspec": {
   "display_name": "Python 3 (ipykernel)",
   "language": "python",
   "name": "python3"
  },
  "language_info": {
   "codemirror_mode": {
    "name": "ipython",
    "version": 3
   },
   "file_extension": ".py",
   "mimetype": "text/x-python",
   "name": "python",
   "nbconvert_exporter": "python",
   "pygments_lexer": "ipython3",
   "version": "3.10.2"
  },
  "latex_envs": {
   "LaTeX_envs_menu_present": true,
   "autoclose": true,
   "autocomplete": true,
   "bibliofile": "biblio.bib",
   "cite_by": "apalike",
   "current_citInitial": 1,
   "eqLabelWithNumbers": true,
   "eqNumInitial": 1,
   "hotkeys": {
    "equation": "Ctrl-E",
    "itemize": "Ctrl-I"
   },
   "labels_anchors": false,
   "latex_user_defs": false,
   "report_style_numbering": false,
   "user_envs_cfg": false
  },
  "toc": {
   "base_numbering": 1,
   "nav_menu": {},
   "number_sections": true,
   "sideBar": true,
   "skip_h1_title": false,
   "title_cell": "Table of Contents",
   "title_sidebar": "Contents",
   "toc_cell": false,
   "toc_position": {},
   "toc_section_display": true,
   "toc_window_display": false
  },
  "varInspector": {
   "cols": {
    "lenName": 16,
    "lenType": 16,
    "lenVar": 40
   },
   "kernels_config": {
    "python": {
     "delete_cmd_postfix": "",
     "delete_cmd_prefix": "del ",
     "library": "var_list.py",
     "varRefreshCmd": "print(var_dic_list())"
    },
    "r": {
     "delete_cmd_postfix": ") ",
     "delete_cmd_prefix": "rm(",
     "library": "var_list.r",
     "varRefreshCmd": "cat(var_dic_list()) "
    }
   },
   "types_to_exclude": [
    "module",
    "function",
    "builtin_function_or_method",
    "instance",
    "_Feature"
   ],
   "window_display": false
  }
 },
 "nbformat": 4,
 "nbformat_minor": 2
}
