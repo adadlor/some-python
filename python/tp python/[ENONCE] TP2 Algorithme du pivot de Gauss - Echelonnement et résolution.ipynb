{
 "cells": [
  {
   "cell_type": "markdown",
   "metadata": {},
   "source": [
    "<p style=\"text-align:center; font-size:300%; line-height:300%; font-weight:bold; background-color:#2F52A3; color:white\">Algorithme du pivot de Gauss</p>"
   ]
  },
  {
   "cell_type": "markdown",
   "metadata": {},
   "source": [
    "<div style=\"font-weight:bold; background-color:#61C3CE\">\n",
    "    Evaluation :\n",
    "    <ul>\n",
    "        <li>Résoudre des systèmes linéaires</li>\n",
    "    </ul>\n",
    "</div>"
   ]
  },
  {
   "cell_type": "markdown",
   "metadata": {},
   "source": [
    "**Recommandations :**\n",
    "\n",
    "+ Respectez rigoureusement la signature des fonctions (casse incluse), et les consignes.\n",
    "+ Copiez-collez le code de votre fonction (ne contenant aucun print ou autre effet de bord) sur Moodle (CodeRunner)\n",
    "+ Utilisez les alias définis ci-dessous.\n",
    "+ Ne faites pas d'import dans Moodle, c'est déjà fait !\n",
    "+ Même si vous travaillez à plusieurs, faites un dépôt par personne.\n",
    "+ Il n'y aura aucune \"démo\" dans les cinq dernières minutes. Ce travail et les tests Moodle seront pris en compte dans la note finale.\n",
    "+ Vous allez coder **des fonctions**; cela signifie que vous **retournez** le résultat et que vous ne modifiez pas les paramètres (**pas d'effet de bord**)."
   ]
  },
  {
   "cell_type": "markdown",
   "metadata": {},
   "source": [
    "**Objectif :**\n",
    "\n",
    "+ Dans ce TP, vous allez terminer le travail mis en place à la séance précédente en implémentant l'algorithme de Gauss permettant de résoudre des systèmes linéaires."
   ]
  },
  {
   "cell_type": "code",
   "execution_count": 43,
   "metadata": {},
   "outputs": [],
   "source": [
    "# Exécutez cette cellule, vous pourrez alors appeler ces fonctions dans le reste de ce notebook\n",
    "import numpy as np\n",
    "\n",
    "def Echange(i, j , M):\n",
    "    copy = np.copy(M)\n",
    "    copy[i,:] = M[j,:]\n",
    "    copy[j,:] = M[i,:]\n",
    "    return copy\n",
    "\n",
    "def CombinaisonLineaire(i, l, j , A):\n",
    "    M = np.copy(A)\n",
    "    M[i,:] = A[i,:] + l*A[j,:]\n",
    "    return M\n",
    "\n",
    "def ChoixPivot(j,A):\n",
    "    nbLignes = A.shape[0]\n",
    "    i = j;\n",
    "    while (i < nbLignes and A[i,j]==0):\n",
    "        i = i + 1\n",
    "    if (i == nbLignes):\n",
    "        i=-1\n",
    "    return i"
   ]
  },
  {
   "cell_type": "markdown",
   "metadata": {},
   "source": [
    "<p style=\"font-size:150%; line-height:150%; font-weight:bold; background-color:#FFDD00\">Exercice : Fonction d'échelonnement</p>"
   ]
  },
  {
   "cell_type": "markdown",
   "metadata": {},
   "source": [
    "Si $A$ est la **matrice augmentée** d'un système linéaire, écrivez une fonction `Echelonne(A)` qui retourne la matrice échelonnée du système.\n",
    "\n",
    "**Par exemple, pour le système :**\n",
    "\n",
    "$$\\left\\{\\begin{matrix}\n",
    "2x & + & 3y & - & z  & = & -7 \\\\\n",
    "5x & - & 2y & + & 3z & = & 18 \\\\\n",
    "-x & + & 7y & + & 8z & = &  9\n",
    "\\end{matrix}\\right.$$\n",
    "\n",
    "La matrice augmentée $A$ est :\n",
    "$$\\left(\\begin{matrix}\n",
    "2  &  3 & -1 & -7 \\\\\n",
    "5  & -2 &  3 & 18 \\\\\n",
    "-1 &  7 &  8 &  9\n",
    "\\end{matrix}\\right)$$\n",
    "\n",
    "Et `Echelonne(A)` retourne :\n",
    "\n",
    "$$\\left(\\begin{matrix}\n",
    "2 &  3   & -1    & -7 \\\\\n",
    "0 & -9.5 &  5.5  & 35.5 \\\\\n",
    "0 &  0   & 12.42 & 37.26\n",
    "\\end{matrix}\\right)$$\n",
    "\n",
    "De plus, la solution de ce système est $(1;-2;3)$\n",
    "\n",
    "**Deuxième exemple, le système :**\n",
    "\n",
    "$$\\left\\{\\begin{matrix}\n",
    "x & + & y & + & z  & = & -1 \\\\\n",
    "-x & + & y & + & z & = & 1 \\\\\n",
    "2x & - & y & + & z & = &  -6\n",
    "\\end{matrix}\\right.$$\n",
    "\n",
    "La matrice augmentée $A$ est :\n",
    "$$\\left(\\begin{matrix}\n",
    " 1  &  1 &  1 & -1 \\\\\n",
    "-1  &  1 &  1 &  1 \\\\\n",
    " 2  & -1 &  1 & -6\n",
    "\\end{matrix}\\right)$$\n",
    "\n",
    "Et `Echelonne(A)` retourne :\n",
    "\n",
    "$$\\left(\\begin{matrix}\n",
    "1 &  1 &  1 & -1 \\\\\n",
    "0 &  2 &  2 &  0 \\\\\n",
    "0 &  0 &  2 & -4\n",
    "\\end{matrix}\\right)$$\n",
    "\n",
    "De plus, la solution de ce système est $(-1;2;-2)$\n",
    "\n",
    "**Indications :**\n",
    "+ Il est bien sûr vivement recommandé d'utiliser les fonctions précédentes !\n",
    "+ Tester ses fonctions sur seulement deux exemples, n'est clairement pas suffisant !\n"
   ]
  },
  {
   "cell_type": "code",
   "execution_count": 44,
   "metadata": {},
   "outputs": [],
   "source": [
    "def Echelonne(A):\n",
    "    \"\"\"\n",
    "    param A:np.array\n",
    "        /matrice correspondant à un système linéaire\n",
    "    return :np.array\n",
    "        /système linéaire échelonné\n",
    "        \n",
    "        |x, y, Z=?|\n",
    "        | , y, Z=?|\n",
    "        | ,  , Z=?|\n",
    "    \"\"\"\n",
    "    copy = np.copy(A)\n",
    "    for i in range(len(A)-1):\n",
    "        lignepivot = ChoixPivot(i, copy)\n",
    "        Echange(i-1, lignepivot, copy)\n",
    "        pivot = copy[i+1, i]\n",
    "        for j in range(i+1, len(A)):\n",
    "            coeff = copy[j, i]/ copy[i, i]\n",
    "            copy = CombinaisonLineaire(j, -coeff, i , copy)\n",
    "    return np.around(copy, 8)"
   ]
  },
  {
   "cell_type": "markdown",
   "metadata": {},
   "source": [
    "<p style=\"font-size:150%; line-height:150%; font-weight:bold; background-color:#FFDD00\">Exercice : Résolution</p>"
   ]
  },
  {
   "cell_type": "markdown",
   "metadata": {},
   "source": [
    "Si $A$ est la matrice augmentée d'un système linéaire, écrivez une fonction `Gauss(A)` qui retourne la solution du système. \n",
    "\n",
    "**Indications :**\n",
    "+ Ce système est supposé de Cramer. Aucun test n'est effectué pour le vérifier.\n",
    "+ Etant donnée une équation $a_{i,i}x_{i} + a_{i,i+1}x_{i+1} + \\cdots + a_{i,n}x_{n} = b_i$.\n",
    "Si l'on connaît $x_{i+1},\\ldots,x_n$, alors on trouve $x_i$ avec la formule :\n",
    "\n",
    "$$x_{i} = \\frac{1}{a_{i,i}}\\left(b_i - \\sum_{k=i+1}^n a_{i,k}x_k\\right)$$\n",
    "\n",
    "+ L'essentiel de votre travail consiste à coder la formule précédente.\n",
    "+ Mais, commencez par échelonner !\n",
    "+ Testez votre fonction avec les deux exemples de la partie précédente, mais ça ne suffit pas !"
   ]
  },
  {
   "cell_type": "code",
   "execution_count": 49,
   "metadata": {},
   "outputs": [
    {
     "name": "stdout",
     "output_type": "stream",
     "text": [
      "[ 1. -2.  3.]\n",
      "[-1.  2. -2.]\n"
     ]
    }
   ],
   "source": [
    "def Gauss(A):\n",
    "    \"\"\"\n",
    "    param A:np.array\n",
    "        /matrice correspondant à un système linéaire\n",
    "    return :np.array\n",
    "        /solution du système linéaire\n",
    "    \"\"\"\n",
    "    copy = np.copy(Echelonne(A))\n",
    "    \n",
    "    #reduction du système linéaire\n",
    "    for i in range(len(copy)-1, -1, -1):\n",
    "        for j in range(i-1, -1, -1):\n",
    "            if copy[j, i] != 0:\n",
    "                coeff = -(copy[j, i]/(copy[i, i]))\n",
    "                copy = CombinaisonLineaire(j, coeff, i, copy)\n",
    "    \"\"\"\n",
    "    après cette partie de code:\n",
    "        |x,  ,  =?|\n",
    "        | , y,  =?|\n",
    "        | ,  , Z=?|\n",
    "    \"\"\"\n",
    "    #solution unique\n",
    "    return np.array([copy[k, -1]/copy[k, k] for k in range(len(A))])\n",
    "    #je ne sais pas trop si il fallait prendre en compte les cas de solution\n",
    "    #tel que les solution infini ou les solution nulle. Du coup je ne les ai\n",
    "    #pas traité"
   ]
  },
  {
   "cell_type": "markdown",
   "metadata": {},
   "source": [
    "<p style=\"font-size:150%; line-height:150%; font-weight:bold; color:#D67D3A\">Attention : </p>\n",
    "\n",
    "Les fonctions à rendre pour ce TP sont :\n",
    "+ `Echelonne(A)`\n",
    "+ `Gauss(A)`"
   ]
  },
  {
   "cell_type": "code",
   "execution_count": null,
   "metadata": {},
   "outputs": [],
   "source": []
  }
 ],
 "metadata": {
  "kernelspec": {
   "display_name": "Python 3 (ipykernel)",
   "language": "python",
   "name": "python3"
  },
  "language_info": {
   "codemirror_mode": {
    "name": "ipython",
    "version": 3
   },
   "file_extension": ".py",
   "mimetype": "text/x-python",
   "name": "python",
   "nbconvert_exporter": "python",
   "pygments_lexer": "ipython3",
   "version": "3.10.2"
  }
 },
 "nbformat": 4,
 "nbformat_minor": 2
}
